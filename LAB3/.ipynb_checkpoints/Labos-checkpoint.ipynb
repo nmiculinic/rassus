{
 "cells": [
  {
   "cell_type": "code",
   "execution_count": 49,
   "metadata": {
    "ExecuteTime": {
     "end_time": "2018-01-16T17:32:15.345025Z",
     "start_time": "2018-01-16T17:32:15.231506Z"
    },
    "run_control": {
     "frozen": false,
     "read_only": false
    }
   },
   "outputs": [
    {
     "data": {
      "text/plain": [
       "(0.519382978723404/(-0.003*l1 + 1),\n",
       " (2.5*l1, 0.771276595744681*l1, 0.904255319148936*l1, 1.25*l1, 1.5*l1, 1.0*l1))"
      ]
     },
     "execution_count": 49,
     "metadata": {},
     "output_type": "execute_result"
    }
   ],
   "source": [
    "from sympy.solvers import solve\n",
    "from sympy import Symbol, Eq\n",
    "from sympy.solvers.solveset import linsolve\n",
    "\n",
    "a = Symbol('a')\n",
    "b = Symbol('b')\n",
    "c = Symbol('c')\n",
    "\n",
    "d = Symbol('d')\n",
    "e = Symbol('e')\n",
    "f = Symbol('f')\n",
    "\n",
    "g = Symbol('g')\n",
    "h = Symbol('h')\n",
    "\n",
    "a, b, c = 0.2, 0.3, 0.5\n",
    "d, e = 0.6, 0.4 \n",
    "f = 0.6\n",
    "g, h = 0.2, 0.3\n",
    "\n",
    "l = [Symbol('l%d' %i) for i in range(10)]\n",
    "sol=linsolve(\n",
    "    [\n",
    "        l[1] + f*l[2] - l[2],\n",
    "        a*l[2] + h*l[4] - l[3],\n",
    "        b*l[2] + g*l[3] - l[4],\n",
    "        c*l[2] - l[5],\n",
    "        d*l[2] - l[6],\n",
    "        e*l[2] - l[7],\n",
    "    ], *[l[x] for x in range(2, 8)]\n",
    ")\n",
    "ss = list(sol)[0]\n",
    "\n",
    "\n",
    "leff = [None for _ in range(10)]\n",
    "leff[1] = l[1]\n",
    "for i, ass in zip(range(2, 8), ss):\n",
    "    leff[i] = ass\n",
    "\n",
    "S = [None, 0.003, 0.001, 0.01, 0.04, 0.1, 0.13, 0.15]\n",
    "ro = [None for _ in range(10)]\n",
    "Qk = [None for _ in range(10)]\n",
    "\n",
    "for i in range(1, 8):\n",
    "    ro[i] = S[i] * leff[i]\n",
    "    Qk[i] = ro[i] / (1 - ro[1])\n",
    "R = sum(xx for xx in Qk[1:8])/l[1]\n",
    "R, ss"
   ]
  },
  {
   "cell_type": "code",
   "execution_count": 62,
   "metadata": {
    "ExecuteTime": {
     "end_time": "2018-01-16T17:40:16.052810Z",
     "start_time": "2018-01-16T17:40:16.040023Z"
    }
   },
   "outputs": [
    {
     "data": {
      "text/plain": [
       "0.520163223558742"
      ]
     },
     "execution_count": 62,
     "metadata": {},
     "output_type": "execute_result"
    }
   ],
   "source": []
  },
  {
   "cell_type": "code",
   "execution_count": 64,
   "metadata": {
    "ExecuteTime": {
     "end_time": "2018-01-16T17:42:41.360220Z",
     "start_time": "2018-01-16T17:42:41.351938Z"
    },
    "run_control": {
     "frozen": false,
     "read_only": false
    }
   },
   "outputs": [
    {
     "data": {
      "text/plain": [
       "0.520163223558742"
      ]
     },
     "execution_count": 64,
     "metadata": {},
     "output_type": "execute_result"
    }
   ],
   "source": [
    "import pdq\n",
    "pdq.Init(\"0036477241\")\n",
    "pdq.CreateOpen(\"wn\", 0.3)\n",
    "for i in range(1, 8):\n",
    "    pdq.CreateNode(f\"n{i}\", pdq.CEN, pdq.FCFS)\n",
    "for i in range(1, 8):\n",
    "    pdq.SetDemand(f\"n{i}\", \"wn\", S[i] * float(leff[i].subs(l[1], 0.5)))\n",
    "pdq.Solve(pdq.CANON)\n",
    "pdq.Report()\n",
    "R.subs(l[1], 0.5)"
   ]
  },
  {
   "cell_type": "markdown",
   "metadata": {},
   "source": [
    "```\n",
    "                    PRETTY DAMN QUICK REPORT         \n",
    "               ==========================================\n",
    "               ***  on   Tue Jan 16 18:41:06 2018     ***\n",
    "               ***  for  0036477241                   ***\n",
    "               ***  PDQ  Version 6.2.0 Build 082015   ***\n",
    "               ==========================================\n",
    "\n",
    "               ==========================================\n",
    "               ********    PDQ Model INPUTS      ********\n",
    "               ==========================================\n",
    "\n",
    "WORKLOAD Parameters:\n",
    "\n",
    "Node Sched Resource   Workload   Class     Demand\n",
    "---- ----- --------   --------   -----     ------\n",
    "  1  FCFS  n1         wn         Open      0.0015\n",
    "  1  FCFS  n2         wn         Open      0.0013\n",
    "  1  FCFS  n3         wn         Open      0.0039\n",
    "  1  FCFS  n4         wn         Open      0.0181\n",
    "  1  FCFS  n5         wn         Open      0.0625\n",
    "  1  FCFS  n6         wn         Open      0.0975\n",
    "  1  FCFS  n7         wn         Open      0.0750\n",
    "\n",
    "Queueing Circuit Totals\n",
    "Streams:   1\n",
    "Nodes:     7\n",
    "\n",
    "wn             0.3000        0.2597\n",
    "\n",
    "\n",
    "               ==========================================\n",
    "               ********   PDQ Model OUTPUTS      ********\n",
    "               ==========================================\n",
    "\n",
    "Solution Method: CANON\n",
    "\n",
    "               ********   SYSTEM Performance     ********\n",
    "\n",
    "Metric                     Value    Unit\n",
    "------                     -----    ----\n",
    "Workload: \"wn\"\n",
    "Number in system          0.0797    Trans\n",
    "Mean throughput           0.3000    Trans/Sec\n",
    "Response time             0.2657    Sec\n",
    "Stretch factor            1.0230\n",
    "\n",
    "Bounds Analysis:\n",
    "Max throughput           10.2564    Trans/Sec\n",
    "Min response              0.2597    Sec\n",
    "\n",
    "\n",
    "               ********   RESOURCE Performance   ********\n",
    "\n",
    "Metric          Resource     Work              Value   Unit\n",
    "------          --------     ----              -----   ----\n",
    "Capacity        n1           wn                    1   Servers\n",
    "Throughput      n1           wn               0.3000   Trans/Sec\n",
    "In service      n1           wn               0.0004   Trans\n",
    "Utilization     n1           wn               0.0450   Percent\n",
    "Queue length    n1           wn               0.0005   Trans\n",
    "Waiting line    n1           wn               0.0000   Trans\n",
    "Waiting time    n1           wn               0.0000   Sec\n",
    "Residence time  n1           wn               0.0015   Sec\n",
    "\n",
    "Capacity        n2           wn                    1   Servers\n",
    "Throughput      n2           wn               0.3000   Trans/Sec\n",
    "In service      n2           wn               0.0004   Trans\n",
    "Utilization     n2           wn               0.0375   Percent\n",
    "Queue length    n2           wn               0.0004   Trans\n",
    "Waiting line    n2           wn               0.0000   Trans\n",
    "Waiting time    n2           wn               0.0000   Sec\n",
    "Residence time  n2           wn               0.0013   Sec\n",
    "\n",
    "Capacity        n3           wn                    1   Servers\n",
    "Throughput      n3           wn               0.3000   Trans/Sec\n",
    "In service      n3           wn               0.0012   Trans\n",
    "Utilization     n3           wn               0.1157   Percent\n",
    "Queue length    n3           wn               0.0012   Trans\n",
    "Waiting line    n3           wn               0.0000   Trans\n",
    "Waiting time    n3           wn               0.0000   Sec\n",
    "Residence time  n3           wn               0.0039   Sec\n",
    "\n",
    "Capacity        n4           wn                    1   Servers\n",
    "Throughput      n4           wn               0.3000   Trans/Sec\n",
    "In service      n4           wn               0.0054   Trans\n",
    "Utilization     n4           wn               0.5426   Percent\n",
    "Queue length    n4           wn               0.0055   Trans\n",
    "Waiting line    n4           wn               0.0000   Trans\n",
    "Waiting time    n4           wn               0.0001   Sec\n",
    "Residence time  n4           wn               0.0182   Sec\n",
    "\n",
    "Capacity        n5           wn                    1   Servers\n",
    "Throughput      n5           wn               0.3000   Trans/Sec\n",
    "In service      n5           wn               0.0187   Trans\n",
    "Utilization     n5           wn               1.8750   Percent\n",
    "Queue length    n5           wn               0.0191   Trans\n",
    "Waiting line    n5           wn               0.0004   Trans\n",
    "Waiting time    n5           wn               0.0012   Sec\n",
    "Residence time  n5           wn               0.0637   Sec\n",
    "\n",
    "Capacity        n6           wn                    1   Servers\n",
    "Throughput      n6           wn               0.3000   Trans/Sec\n",
    "In service      n6           wn               0.0292   Trans\n",
    "Utilization     n6           wn               2.9250   Percent\n",
    "Queue length    n6           wn               0.0301   Trans\n",
    "Waiting line    n6           wn               0.0009   Trans\n",
    "Waiting time    n6           wn               0.0029   Sec\n",
    "Residence time  n6           wn               0.1004   Sec\n",
    "\n",
    "Capacity        n7           wn                    1   Servers\n",
    "Throughput      n7           wn               0.3000   Trans/Sec\n",
    "In service      n7           wn               0.0225   Trans\n",
    "Utilization     n7           wn               2.2500   Percent\n",
    "Queue length    n7           wn               0.0230   Trans\n",
    "Waiting line    n7           wn               0.0005   Trans\n",
    "Waiting time    n7           wn               0.0017   Sec\n",
    "Residence time  n7           wn               0.0767   Sec\n",
    "```"
   ]
  }
 ],
 "metadata": {
  "kernelspec": {
   "display_name": "Python 3",
   "language": "python",
   "name": "python3"
  },
  "language_info": {
   "codemirror_mode": {
    "name": "ipython",
    "version": 3
   },
   "file_extension": ".py",
   "mimetype": "text/x-python",
   "name": "python",
   "nbconvert_exporter": "python",
   "pygments_lexer": "ipython3",
   "version": "3.6.4"
  }
 },
 "nbformat": 4,
 "nbformat_minor": 2
}
